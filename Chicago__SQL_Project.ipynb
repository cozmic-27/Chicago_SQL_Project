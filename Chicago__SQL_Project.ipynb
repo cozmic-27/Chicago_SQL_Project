{
  "nbformat": 4,
  "nbformat_minor": 0,
  "metadata": {
    "colab": {
      "provenance": [],
      "authorship_tag": "ABX9TyOa1ievByVOEW1CmuGEpvsC",
      "include_colab_link": true
    },
    "kernelspec": {
      "name": "python3",
      "display_name": "Python 3"
    },
    "language_info": {
      "name": "python"
    }
  },
  "cells": [
    {
      "cell_type": "markdown",
      "metadata": {
        "id": "view-in-github",
        "colab_type": "text"
      },
      "source": [
        "<a href=\"https://colab.research.google.com/github/cozmic-27/Chicago_SQL_Project/blob/main/Chicago__SQL_Project.ipynb\" target=\"_parent\"><img src=\"https://colab.research.google.com/assets/colab-badge.svg\" alt=\"Open In Colab\"/></a>"
      ]
    },
    {
      "cell_type": "code",
      "execution_count": null,
      "metadata": {
        "id": "hif74frt_Bi-"
      },
      "outputs": [],
      "source": [
        "import pandas as pd\n",
        "import sqlite3\n",
        "\n",
        "# Establish a connection to the SQLite database\n",
        "conn = sqlite3.connect('FinalDB.db')"
      ]
    },
    {
      "cell_type": "code",
      "source": [
        "%load_ext sql"
      ],
      "metadata": {
        "id": "e7HwmJGi_OeY"
      },
      "execution_count": null,
      "outputs": []
    },
    {
      "cell_type": "code",
      "source": [
        "# Define URLs for the datasets\n",
        "census_data_url = \"https://data.cityofchicago.org/resource/kn9c-c2s2.csv\"\n",
        "chicago_public_schools_url = \"https://data.cityofchicago.org/resource/9xs2-f89t.csv\"\n",
        "chicago_crime_data_url = \"https://data.cityofchicago.org/resource/ijzp-q8t2.csv\"\n",
        "\n",
        "# Load data into pandas dataframes\n",
        "census_data_df = pd.read_csv(census_data_url)\n",
        "chicago_public_schools_df = pd.read_csv(chicago_public_schools_url)\n",
        "chicago_crime_data_df = pd.read_csv(chicago_crime_data_url)\n",
        "\n",
        "# Load dataframes into SQLite tables\n",
        "census_data_df.to_sql('CENSUS_DATA', conn, if_exists='replace', index=False)\n",
        "chicago_public_schools_df.to_sql('CHICAGO_PUBLIC_SCHOOLS', conn, if_exists='replace', index=False)\n",
        "chicago_crime_data_df.to_sql('CHICAGO_CRIME_DATA', conn, if_exists='replace', index=False)\n"
      ],
      "metadata": {
        "colab": {
          "base_uri": "https://localhost:8080/"
        },
        "id": "7jh6SNQP_U7R",
        "outputId": "08c47c1a-3697-4b03-b4d3-5c1e0cff071e"
      },
      "execution_count": null,
      "outputs": [
        {
          "output_type": "execute_result",
          "data": {
            "text/plain": [
              "1000"
            ]
          },
          "metadata": {},
          "execution_count": 3
        }
      ]
    },
    {
      "cell_type": "code",
      "source": [
        "%sql sqlite:///FinalDB.db\n"
      ],
      "metadata": {
        "id": "krtMyFsm_xLS"
      },
      "execution_count": null,
      "outputs": []
    },
    {
      "cell_type": "code",
      "source": [
        "# Total amount of crime recorded"
      ],
      "metadata": {
        "id": "csD54uh9oc-R"
      },
      "execution_count": null,
      "outputs": []
    },
    {
      "cell_type": "code",
      "source": [
        "%%sql select count(*) as TOTAL_CRIMES\n",
        "from CHICAGO_CRIME_DATA"
      ],
      "metadata": {
        "colab": {
          "base_uri": "https://localhost:8080/",
          "height": 95
        },
        "id": "q9J21nSl_zOz",
        "outputId": "17344976-576a-47ca-a61b-204e96d50dc2"
      },
      "execution_count": null,
      "outputs": [
        {
          "output_type": "stream",
          "name": "stdout",
          "text": [
            " * sqlite:///FinalDB.db\n",
            "Done.\n"
          ]
        },
        {
          "output_type": "execute_result",
          "data": {
            "text/plain": [
              "[(1000,)]"
            ],
            "text/html": [
              "<table>\n",
              "    <thead>\n",
              "        <tr>\n",
              "            <th>TOTAL_CRIMES</th>\n",
              "        </tr>\n",
              "    </thead>\n",
              "    <tbody>\n",
              "        <tr>\n",
              "            <td>1000</td>\n",
              "        </tr>\n",
              "    </tbody>\n",
              "</table>"
            ]
          },
          "metadata": {},
          "execution_count": 51
        }
      ]
    },
    {
      "cell_type": "code",
      "source": [
        "# Community areas with poverty index over 40 selected"
      ],
      "metadata": {
        "id": "s6AGo1R6okVC"
      },
      "execution_count": null,
      "outputs": []
    },
    {
      "cell_type": "code",
      "source": [
        "%sql select community_area_name from CENSUS_DATA where PERCENT_HOUSEHOLDS_BELOW_POVERTY > 40.0"
      ],
      "metadata": {
        "id": "K89p_SazAl9l",
        "colab": {
          "base_uri": "https://localhost:8080/",
          "height": 242
        },
        "outputId": "aa8c092b-7f4c-4777-fac4-bf0fe999f20d"
      },
      "execution_count": null,
      "outputs": [
        {
          "output_type": "stream",
          "name": "stdout",
          "text": [
            " * sqlite:///FinalDB.db\n",
            "Done.\n"
          ]
        },
        {
          "output_type": "execute_result",
          "data": {
            "text/plain": [
              "[('West Garfield Park',),\n",
              " ('East Garfield Park',),\n",
              " ('North Lawndale',),\n",
              " ('Armour Square',),\n",
              " ('Fuller Park',),\n",
              " ('Washington Park',),\n",
              " ('Riverdale',),\n",
              " ('Englewood',)]"
            ],
            "text/html": [
              "<table>\n",
              "    <thead>\n",
              "        <tr>\n",
              "            <th>community_area_name</th>\n",
              "        </tr>\n",
              "    </thead>\n",
              "    <tbody>\n",
              "        <tr>\n",
              "            <td>West Garfield Park</td>\n",
              "        </tr>\n",
              "        <tr>\n",
              "            <td>East Garfield Park</td>\n",
              "        </tr>\n",
              "        <tr>\n",
              "            <td>North Lawndale</td>\n",
              "        </tr>\n",
              "        <tr>\n",
              "            <td>Armour Square</td>\n",
              "        </tr>\n",
              "        <tr>\n",
              "            <td>Fuller Park</td>\n",
              "        </tr>\n",
              "        <tr>\n",
              "            <td>Washington Park</td>\n",
              "        </tr>\n",
              "        <tr>\n",
              "            <td>Riverdale</td>\n",
              "        </tr>\n",
              "        <tr>\n",
              "            <td>Englewood</td>\n",
              "        </tr>\n",
              "    </tbody>\n",
              "</table>"
            ]
          },
          "metadata": {},
          "execution_count": 6
        }
      ]
    },
    {
      "cell_type": "code",
      "source": [
        "# Case numbers involving minors extracted from dataset"
      ],
      "metadata": {
        "id": "_BovmEqcp8QN"
      },
      "execution_count": null,
      "outputs": []
    },
    {
      "cell_type": "code",
      "source": [
        "%sql select case_number from CHICAGO_CRIME_DATA where description like '%MINOR%'"
      ],
      "metadata": {
        "id": "D8jGGJ0SCREo",
        "outputId": "e76b15cc-7477-41f7-aaf7-05d907537522",
        "colab": {
          "base_uri": "https://localhost:8080/",
          "height": 326
        }
      },
      "execution_count": null,
      "outputs": [
        {
          "output_type": "stream",
          "name": "stdout",
          "text": [
            " * sqlite:///FinalDB.db\n",
            "Done.\n"
          ]
        },
        {
          "output_type": "execute_result",
          "data": {
            "text/plain": [
              "[('JH159716',),\n",
              " ('JH159611',),\n",
              " ('JH159385',),\n",
              " ('JH160228',),\n",
              " ('JH159029',),\n",
              " ('JH161448',),\n",
              " ('JH160120',),\n",
              " ('JH158969',),\n",
              " ('JH158519',),\n",
              " ('JH158503',),\n",
              " ('JH158349',),\n",
              " ('JH158134',)]"
            ],
            "text/html": [
              "<table>\n",
              "    <thead>\n",
              "        <tr>\n",
              "            <th>case_number</th>\n",
              "        </tr>\n",
              "    </thead>\n",
              "    <tbody>\n",
              "        <tr>\n",
              "            <td>JH159716</td>\n",
              "        </tr>\n",
              "        <tr>\n",
              "            <td>JH159611</td>\n",
              "        </tr>\n",
              "        <tr>\n",
              "            <td>JH159385</td>\n",
              "        </tr>\n",
              "        <tr>\n",
              "            <td>JH160228</td>\n",
              "        </tr>\n",
              "        <tr>\n",
              "            <td>JH159029</td>\n",
              "        </tr>\n",
              "        <tr>\n",
              "            <td>JH161448</td>\n",
              "        </tr>\n",
              "        <tr>\n",
              "            <td>JH160120</td>\n",
              "        </tr>\n",
              "        <tr>\n",
              "            <td>JH158969</td>\n",
              "        </tr>\n",
              "        <tr>\n",
              "            <td>JH158519</td>\n",
              "        </tr>\n",
              "        <tr>\n",
              "            <td>JH158503</td>\n",
              "        </tr>\n",
              "        <tr>\n",
              "            <td>JH158349</td>\n",
              "        </tr>\n",
              "        <tr>\n",
              "            <td>JH158134</td>\n",
              "        </tr>\n",
              "    </tbody>\n",
              "</table>"
            ]
          },
          "metadata": {},
          "execution_count": 7
        }
      ]
    },
    {
      "cell_type": "code",
      "source": [
        "# Crime involving the keywords \"Theft\" and \"Residence\" extracted to determine the amount of suspected home robberies"
      ],
      "metadata": {
        "id": "Eajw7HLNqLn-"
      },
      "execution_count": null,
      "outputs": []
    },
    {
      "cell_type": "code",
      "source": [
        "%sql select * from CHICAGO_CRIME_DATA where primary_type like '%THEFT%' and location_description like '%RESIDENCE%'"
      ],
      "metadata": {
        "colab": {
          "base_uri": "https://localhost:8080/",
          "height": 1000
        },
        "id": "5dWBYWQbCsVJ",
        "outputId": "7d8c31c2-8043-4256-f9eb-e252657e5e46"
      },
      "execution_count": null,
      "outputs": [
        {
          "output_type": "stream",
          "name": "stdout",
          "text": [
            " * sqlite:///FinalDB.db\n",
            "Done.\n"
          ]
        },
        {
          "output_type": "execute_result",
          "data": {
            "text/plain": [
              "[(13378699, 'JH164164', '2024-02-20T22:30:00.000', '034XX N MILWAUKEE AVE', '0810', 'THEFT', 'OVER $500', 'RESIDENCE - GARAGE', 0, 0, 1731, 17, 30, 16, '06', 1148109.0, 1922566.0, 2024, '2024-02-28T15:41:06.000', 41.943469988, -87.731029517, '\\n,  \\n(41.943469988, -87.731029517)'),\n",
              " (13377065, 'JH161647', '2024-02-20T22:04:00.000', '047XX N DRAKE AVE', '0890', 'THEFT', 'FROM BUILDING', 'RESIDENCE', 0, 0, 1723, 17, 33, 14, '06', 1151865.0, 1931242.0, 2024, '2024-02-28T15:41:06.000', 41.967204294, -87.716994839, '\\n,  \\n(41.967204294, -87.716994839)'),\n",
              " (13377088, 'JH162186', '2024-02-20T22:03:00.000', '047XX N DRAKE AVE', '0890', 'THEFT', 'FROM BUILDING', 'RESIDENCE', 0, 0, 1723, 17, 33, 14, '06', 1151865.0, 1931242.0, 2024, '2024-02-28T15:41:06.000', 41.967204294, -87.716994839, '\\n,  \\n(41.967204294, -87.716994839)'),\n",
              " (13376008, 'JH160200', '2024-02-20T22:00:00.000', '076XX N GREENVIEW AVE', '0820', 'THEFT', '$500 AND UNDER', 'RESIDENCE - PORCH / HALLWAY', 0, 0, 2422, 24, 49, 1, '06', 1164973.0, 1950635.0, 2024, '2024-02-28T15:41:06.000', 42.020150332, -87.668244522, '\\n,  \\n(42.020150332, -87.668244522)'),\n",
              " (13376736, 'JH161586', '2024-02-20T20:00:00.000', '024XX N LINCOLN AVE', '0890', 'THEFT', 'FROM BUILDING', 'RESIDENCE - GARAGE', 0, 0, 1935, 19, 43, 7, '06', 1170377.0, 1916322.0, 2024, '2024-02-28T15:41:06.000', 41.925877649, -87.649366429, '\\n,  \\n(41.925877649, -87.649366429)'),\n",
              " (13376388, 'JH161371', '2024-02-20T19:52:00.000', '006XX W BARRY AVE', '0820', 'THEFT', '$500 AND UNDER', 'RESIDENCE - PORCH / HALLWAY', 0, 0, 1934, 19, 44, 6, '06', 1171413.0, 1920707.0, 2024, '2024-02-28T15:41:06.000', 41.937887537, -87.645430392, '\\n,  \\n(41.937887537, -87.645430392)'),\n",
              " (13376052, 'JH160065', '2024-02-20T18:21:00.000', '076XX N SHERIDAN RD', '0820', 'THEFT', '$500 AND UNDER', 'RESIDENCE - PORCH / HALLWAY', 0, 0, 2422, 24, 49, 1, '06', 1165467.0, 1950780.0, 2024, '2024-02-28T15:41:06.000', 42.020537666, -87.666422486, '\\n,  \\n(42.020537666, -87.666422486)'),\n",
              " (13377083, 'JH162030', '2024-02-20T16:01:00.000', '013XX N CAMPBELL AVE', '0890', 'THEFT', 'FROM BUILDING', 'RESIDENCE', 0, 0, 1423, 14, 26, 24, '06', 1159496.0, 1908825.0, 2024, '2024-02-28T15:41:06.000', 41.905536524, -87.689555463, '\\n,  \\n(41.905536524, -87.689555463)'),\n",
              " (13376057, 'JH159965', '2024-02-20T15:58:00.000', '066XX S KEELER AVE', '0820', 'THEFT', '$500 AND UNDER', 'RESIDENCE', 0, 0, 833, 8, 13, 65, '06', 1149513.0, 1860287.0, 2024, '2024-02-28T15:41:06.000', 41.772541609, -87.727484279, '\\n,  \\n(41.772541609, -87.727484279)'),\n",
              " (13375913, 'JH160866', '2024-02-20T15:55:00.000', '018XX S JEFFERSON ST', '0820', 'THEFT', '$500 AND UNDER', 'RESIDENCE', 0, 0, 1235, 12, 25, 31, '06', 1172622.0, 1891385.0, 2024, '2024-02-28T15:41:06.000', 41.857399593, -87.641855668, '\\n,  \\n(41.857399593, -87.641855668)'),\n",
              " (13374814, 'JH159665', '2024-02-20T15:53:00.000', '116XX S ADA ST', '0820', 'THEFT', '$500 AND UNDER', 'RESIDENCE', 0, 0, 524, 5, 21, 53, '06', 1169422.0, 1827549.0, 2024, '2024-02-28T15:41:06.000', 41.682295704, -87.655448246, '\\n,  \\n(41.682295704, -87.655448246)'),\n",
              " (13376051, 'JH159964', '2024-02-20T15:52:00.000', '008XX W Roscoe St', '0820', 'THEFT', '$500 AND UNDER', 'RESIDENCE - PORCH / HALLWAY', 0, 0, 1924, 19, 44, 6, '06', 1169921.0, 1922776.0, 2024, '2024-02-28T15:41:06.000', 41.943597681, -87.650853204, '\\n,  \\n(41.943597681, -87.650853204)'),\n",
              " (13375424, 'JH160191', '2024-02-20T15:01:00.000', '023XX N CLYBOURN AVE', '0820', 'THEFT', '$500 AND UNDER', 'RESIDENCE - PORCH / HALLWAY', 0, 0, 1811, 18, 2, 7, '06', 1165441.0, 1915547.0, 2024, '2024-02-28T15:41:06.000', 41.923857611, -87.667525821, '\\n,  \\n(41.923857611, -87.667525821)'),\n",
              " (13374761, 'JH159582', '2024-02-20T15:00:00.000', '043XX W 77TH PL', '0810', 'THEFT', 'OVER $500', 'RESIDENCE - PORCH / HALLWAY', 0, 0, 834, 8, 18, 70, '06', 1148752.0, 1852996.0, 2024, '2024-02-28T15:41:06.000', 41.752548543, -87.730461248, '\\n,  \\n(41.752548543, -87.730461248)'),\n",
              " (13374416, 'JH159093', '2024-02-20T12:15:00.000', '015XX S HAMLIN AVE', '0820', 'THEFT', '$500 AND UNDER', 'RESIDENCE - PORCH / HALLWAY', 0, 0, 1014, 10, 24, 29, '06', 1151296.0, 1892168.0, 2024, '2024-02-28T15:41:06.000', 41.859992856, -87.720114215, '\\n,  \\n(41.859992856, -87.720114215)'),\n",
              " (13380517, 'JH166296', '2024-02-20T12:00:00.000', '066XX S ST LAWRENCE AVE', '0820', 'THEFT', '$500 AND UNDER', 'RESIDENCE - YARD (FRONT / BACK)', 0, 0, 321, 3, 20, 42, '06', 1181374.0, 1861177.0, 2024, '2024-02-28T15:41:06.000', 41.774308589, -87.610663654, '\\n,  \\n(41.774308589, -87.610663654)'),\n",
              " (13377854, 'JH163155', '2024-02-20T11:30:00.000', '053XX S SPAULDING AVE', '0810', 'THEFT', 'OVER $500', 'RESIDENCE', 0, 0, 822, 8, 14, 63, '06', 1155289.0, 1868960.0, 2024, '2024-02-28T15:41:06.000', 41.796227989, -87.706078911, '\\n,  \\n(41.796227989, -87.706078911)'),\n",
              " (13375275, 'JH159057', '2024-02-20T11:15:00.000', '006XX S LOOMIS ST', '0820', 'THEFT', '$500 AND UNDER', 'RESIDENCE', 0, 0, 1231, 12, 28, 28, '06', 1167146.0, 1897410.0, 2024, '2024-02-28T15:41:06.000', 41.874051956, -87.661782668, '\\n,  \\n(41.874051956, -87.661782668)'),\n",
              " (13374582, 'JH158694', '2024-02-20T06:50:00.000', '009XX W 115TH PL', '0820', 'THEFT', '$500 AND UNDER', 'RESIDENCE', 0, 1, 524, 5, 21, 53, '06', 1171923.0, 1828274.0, 2024, '2024-02-28T15:41:06.000', 41.684230856, -87.64627195, '\\n,  \\n(41.684230856, -87.64627195)'),\n",
              " (13374597, 'JH159281', '2024-02-20T03:50:00.000', '016XX W SHERWIN AVE', '0810', 'THEFT', 'OVER $500', 'RESIDENCE', 0, 0, 2423, 24, 49, 1, '06', 1164156.0, 1948718.0, 2024, '2024-02-28T15:41:06.000', 42.014907434, -87.671305577, '\\n,  \\n(42.014907434, -87.671305577)'),\n",
              " (13374112, 'JH158633', '2024-02-19T23:00:00.000', '023XX W 100TH ST', '0910', 'MOTOR VEHICLE THEFT', 'AUTOMOBILE', 'RESIDENCE', 0, 0, 2213, 22, 19, 72, '07', 1162677.0, 1838271.0, 2024, '2024-02-27T15:41:42.000', 41.711861729, -87.679841245, '\\n,  \\n(41.711861729, -87.679841245)'),\n",
              " (13374953, 'JH159004', '2024-02-19T19:35:00.000', '073XX S CRANDON AVE', '0890', 'THEFT', 'FROM BUILDING', 'RESIDENCE - PORCH / HALLWAY', 0, 0, 334, 3, 7, 43, '06', 1192819.0, 1856659.0, 2024, '2024-02-27T15:41:42.000', 41.761639287, -87.568856231, '\\n,  \\n(41.761639287, -87.568856231)'),\n",
              " (13373789, 'JH158275', '2024-02-19T17:00:00.000', '132XX S EBERHART AVE', '0810', 'THEFT', 'OVER $500', 'RESIDENCE', 0, 0, 533, 5, 10, 54, '06', 1181661.0, 1817068.0, 2024, '2024-02-27T15:41:42.000', 41.653261286, -87.610968139, '\\n,  \\n(41.653261286, -87.610968139)'),\n",
              " (13373720, 'JH158303', '2024-02-19T14:50:00.000', '026XX W 35TH PL', '0820', 'THEFT', '$500 AND UNDER', 'RESIDENCE - PORCH / HALLWAY', 0, 0, 911, 9, 12, 58, '06', 1159375.0, 1881027.0, 2024, '2024-02-27T15:41:42.000', 41.829258557, -87.69076427, '\\n,  \\n(41.829258557, -87.69076427)'),\n",
              " (13375489, 'JH160291', '2024-02-19T13:02:00.000', '073XX S SOUTH SHORE DR', '0890', 'THEFT', 'FROM BUILDING', 'RESIDENCE - PORCH / HALLWAY', 0, 0, 334, 3, 7, 43, '06', 1195179.0, 1857404.0, 2024, '2024-02-27T15:41:42.000', 41.763625742, -87.560182233, '\\n,  \\n(41.763625742, -87.560182233)')]"
            ],
            "text/html": [
              "<table>\n",
              "    <thead>\n",
              "        <tr>\n",
              "            <th>id</th>\n",
              "            <th>case_number</th>\n",
              "            <th>date</th>\n",
              "            <th>block</th>\n",
              "            <th>iucr</th>\n",
              "            <th>primary_type</th>\n",
              "            <th>description</th>\n",
              "            <th>location_description</th>\n",
              "            <th>arrest</th>\n",
              "            <th>domestic</th>\n",
              "            <th>beat</th>\n",
              "            <th>district</th>\n",
              "            <th>ward</th>\n",
              "            <th>community_area</th>\n",
              "            <th>fbi_code</th>\n",
              "            <th>x_coordinate</th>\n",
              "            <th>y_coordinate</th>\n",
              "            <th>year</th>\n",
              "            <th>updated_on</th>\n",
              "            <th>latitude</th>\n",
              "            <th>longitude</th>\n",
              "            <th>location</th>\n",
              "        </tr>\n",
              "    </thead>\n",
              "    <tbody>\n",
              "        <tr>\n",
              "            <td>13378699</td>\n",
              "            <td>JH164164</td>\n",
              "            <td>2024-02-20T22:30:00.000</td>\n",
              "            <td>034XX N MILWAUKEE AVE</td>\n",
              "            <td>0810</td>\n",
              "            <td>THEFT</td>\n",
              "            <td>OVER $500</td>\n",
              "            <td>RESIDENCE - GARAGE</td>\n",
              "            <td>0</td>\n",
              "            <td>0</td>\n",
              "            <td>1731</td>\n",
              "            <td>17</td>\n",
              "            <td>30</td>\n",
              "            <td>16</td>\n",
              "            <td>06</td>\n",
              "            <td>1148109.0</td>\n",
              "            <td>1922566.0</td>\n",
              "            <td>2024</td>\n",
              "            <td>2024-02-28T15:41:06.000</td>\n",
              "            <td>41.943469988</td>\n",
              "            <td>-87.731029517</td>\n",
              "            <td><br>,  <br>(41.943469988, -87.731029517)</td>\n",
              "        </tr>\n",
              "        <tr>\n",
              "            <td>13377065</td>\n",
              "            <td>JH161647</td>\n",
              "            <td>2024-02-20T22:04:00.000</td>\n",
              "            <td>047XX N DRAKE AVE</td>\n",
              "            <td>0890</td>\n",
              "            <td>THEFT</td>\n",
              "            <td>FROM BUILDING</td>\n",
              "            <td>RESIDENCE</td>\n",
              "            <td>0</td>\n",
              "            <td>0</td>\n",
              "            <td>1723</td>\n",
              "            <td>17</td>\n",
              "            <td>33</td>\n",
              "            <td>14</td>\n",
              "            <td>06</td>\n",
              "            <td>1151865.0</td>\n",
              "            <td>1931242.0</td>\n",
              "            <td>2024</td>\n",
              "            <td>2024-02-28T15:41:06.000</td>\n",
              "            <td>41.967204294</td>\n",
              "            <td>-87.716994839</td>\n",
              "            <td><br>,  <br>(41.967204294, -87.716994839)</td>\n",
              "        </tr>\n",
              "        <tr>\n",
              "            <td>13377088</td>\n",
              "            <td>JH162186</td>\n",
              "            <td>2024-02-20T22:03:00.000</td>\n",
              "            <td>047XX N DRAKE AVE</td>\n",
              "            <td>0890</td>\n",
              "            <td>THEFT</td>\n",
              "            <td>FROM BUILDING</td>\n",
              "            <td>RESIDENCE</td>\n",
              "            <td>0</td>\n",
              "            <td>0</td>\n",
              "            <td>1723</td>\n",
              "            <td>17</td>\n",
              "            <td>33</td>\n",
              "            <td>14</td>\n",
              "            <td>06</td>\n",
              "            <td>1151865.0</td>\n",
              "            <td>1931242.0</td>\n",
              "            <td>2024</td>\n",
              "            <td>2024-02-28T15:41:06.000</td>\n",
              "            <td>41.967204294</td>\n",
              "            <td>-87.716994839</td>\n",
              "            <td><br>,  <br>(41.967204294, -87.716994839)</td>\n",
              "        </tr>\n",
              "        <tr>\n",
              "            <td>13376008</td>\n",
              "            <td>JH160200</td>\n",
              "            <td>2024-02-20T22:00:00.000</td>\n",
              "            <td>076XX N GREENVIEW AVE</td>\n",
              "            <td>0820</td>\n",
              "            <td>THEFT</td>\n",
              "            <td>$500 AND UNDER</td>\n",
              "            <td>RESIDENCE - PORCH / HALLWAY</td>\n",
              "            <td>0</td>\n",
              "            <td>0</td>\n",
              "            <td>2422</td>\n",
              "            <td>24</td>\n",
              "            <td>49</td>\n",
              "            <td>1</td>\n",
              "            <td>06</td>\n",
              "            <td>1164973.0</td>\n",
              "            <td>1950635.0</td>\n",
              "            <td>2024</td>\n",
              "            <td>2024-02-28T15:41:06.000</td>\n",
              "            <td>42.020150332</td>\n",
              "            <td>-87.668244522</td>\n",
              "            <td><br>,  <br>(42.020150332, -87.668244522)</td>\n",
              "        </tr>\n",
              "        <tr>\n",
              "            <td>13376736</td>\n",
              "            <td>JH161586</td>\n",
              "            <td>2024-02-20T20:00:00.000</td>\n",
              "            <td>024XX N LINCOLN AVE</td>\n",
              "            <td>0890</td>\n",
              "            <td>THEFT</td>\n",
              "            <td>FROM BUILDING</td>\n",
              "            <td>RESIDENCE - GARAGE</td>\n",
              "            <td>0</td>\n",
              "            <td>0</td>\n",
              "            <td>1935</td>\n",
              "            <td>19</td>\n",
              "            <td>43</td>\n",
              "            <td>7</td>\n",
              "            <td>06</td>\n",
              "            <td>1170377.0</td>\n",
              "            <td>1916322.0</td>\n",
              "            <td>2024</td>\n",
              "            <td>2024-02-28T15:41:06.000</td>\n",
              "            <td>41.925877649</td>\n",
              "            <td>-87.649366429</td>\n",
              "            <td><br>,  <br>(41.925877649, -87.649366429)</td>\n",
              "        </tr>\n",
              "        <tr>\n",
              "            <td>13376388</td>\n",
              "            <td>JH161371</td>\n",
              "            <td>2024-02-20T19:52:00.000</td>\n",
              "            <td>006XX W BARRY AVE</td>\n",
              "            <td>0820</td>\n",
              "            <td>THEFT</td>\n",
              "            <td>$500 AND UNDER</td>\n",
              "            <td>RESIDENCE - PORCH / HALLWAY</td>\n",
              "            <td>0</td>\n",
              "            <td>0</td>\n",
              "            <td>1934</td>\n",
              "            <td>19</td>\n",
              "            <td>44</td>\n",
              "            <td>6</td>\n",
              "            <td>06</td>\n",
              "            <td>1171413.0</td>\n",
              "            <td>1920707.0</td>\n",
              "            <td>2024</td>\n",
              "            <td>2024-02-28T15:41:06.000</td>\n",
              "            <td>41.937887537</td>\n",
              "            <td>-87.645430392</td>\n",
              "            <td><br>,  <br>(41.937887537, -87.645430392)</td>\n",
              "        </tr>\n",
              "        <tr>\n",
              "            <td>13376052</td>\n",
              "            <td>JH160065</td>\n",
              "            <td>2024-02-20T18:21:00.000</td>\n",
              "            <td>076XX N SHERIDAN RD</td>\n",
              "            <td>0820</td>\n",
              "            <td>THEFT</td>\n",
              "            <td>$500 AND UNDER</td>\n",
              "            <td>RESIDENCE - PORCH / HALLWAY</td>\n",
              "            <td>0</td>\n",
              "            <td>0</td>\n",
              "            <td>2422</td>\n",
              "            <td>24</td>\n",
              "            <td>49</td>\n",
              "            <td>1</td>\n",
              "            <td>06</td>\n",
              "            <td>1165467.0</td>\n",
              "            <td>1950780.0</td>\n",
              "            <td>2024</td>\n",
              "            <td>2024-02-28T15:41:06.000</td>\n",
              "            <td>42.020537666</td>\n",
              "            <td>-87.666422486</td>\n",
              "            <td><br>,  <br>(42.020537666, -87.666422486)</td>\n",
              "        </tr>\n",
              "        <tr>\n",
              "            <td>13377083</td>\n",
              "            <td>JH162030</td>\n",
              "            <td>2024-02-20T16:01:00.000</td>\n",
              "            <td>013XX N CAMPBELL AVE</td>\n",
              "            <td>0890</td>\n",
              "            <td>THEFT</td>\n",
              "            <td>FROM BUILDING</td>\n",
              "            <td>RESIDENCE</td>\n",
              "            <td>0</td>\n",
              "            <td>0</td>\n",
              "            <td>1423</td>\n",
              "            <td>14</td>\n",
              "            <td>26</td>\n",
              "            <td>24</td>\n",
              "            <td>06</td>\n",
              "            <td>1159496.0</td>\n",
              "            <td>1908825.0</td>\n",
              "            <td>2024</td>\n",
              "            <td>2024-02-28T15:41:06.000</td>\n",
              "            <td>41.905536524</td>\n",
              "            <td>-87.689555463</td>\n",
              "            <td><br>,  <br>(41.905536524, -87.689555463)</td>\n",
              "        </tr>\n",
              "        <tr>\n",
              "            <td>13376057</td>\n",
              "            <td>JH159965</td>\n",
              "            <td>2024-02-20T15:58:00.000</td>\n",
              "            <td>066XX S KEELER AVE</td>\n",
              "            <td>0820</td>\n",
              "            <td>THEFT</td>\n",
              "            <td>$500 AND UNDER</td>\n",
              "            <td>RESIDENCE</td>\n",
              "            <td>0</td>\n",
              "            <td>0</td>\n",
              "            <td>833</td>\n",
              "            <td>8</td>\n",
              "            <td>13</td>\n",
              "            <td>65</td>\n",
              "            <td>06</td>\n",
              "            <td>1149513.0</td>\n",
              "            <td>1860287.0</td>\n",
              "            <td>2024</td>\n",
              "            <td>2024-02-28T15:41:06.000</td>\n",
              "            <td>41.772541609</td>\n",
              "            <td>-87.727484279</td>\n",
              "            <td><br>,  <br>(41.772541609, -87.727484279)</td>\n",
              "        </tr>\n",
              "        <tr>\n",
              "            <td>13375913</td>\n",
              "            <td>JH160866</td>\n",
              "            <td>2024-02-20T15:55:00.000</td>\n",
              "            <td>018XX S JEFFERSON ST</td>\n",
              "            <td>0820</td>\n",
              "            <td>THEFT</td>\n",
              "            <td>$500 AND UNDER</td>\n",
              "            <td>RESIDENCE</td>\n",
              "            <td>0</td>\n",
              "            <td>0</td>\n",
              "            <td>1235</td>\n",
              "            <td>12</td>\n",
              "            <td>25</td>\n",
              "            <td>31</td>\n",
              "            <td>06</td>\n",
              "            <td>1172622.0</td>\n",
              "            <td>1891385.0</td>\n",
              "            <td>2024</td>\n",
              "            <td>2024-02-28T15:41:06.000</td>\n",
              "            <td>41.857399593</td>\n",
              "            <td>-87.641855668</td>\n",
              "            <td><br>,  <br>(41.857399593, -87.641855668)</td>\n",
              "        </tr>\n",
              "        <tr>\n",
              "            <td>13374814</td>\n",
              "            <td>JH159665</td>\n",
              "            <td>2024-02-20T15:53:00.000</td>\n",
              "            <td>116XX S ADA ST</td>\n",
              "            <td>0820</td>\n",
              "            <td>THEFT</td>\n",
              "            <td>$500 AND UNDER</td>\n",
              "            <td>RESIDENCE</td>\n",
              "            <td>0</td>\n",
              "            <td>0</td>\n",
              "            <td>524</td>\n",
              "            <td>5</td>\n",
              "            <td>21</td>\n",
              "            <td>53</td>\n",
              "            <td>06</td>\n",
              "            <td>1169422.0</td>\n",
              "            <td>1827549.0</td>\n",
              "            <td>2024</td>\n",
              "            <td>2024-02-28T15:41:06.000</td>\n",
              "            <td>41.682295704</td>\n",
              "            <td>-87.655448246</td>\n",
              "            <td><br>,  <br>(41.682295704, -87.655448246)</td>\n",
              "        </tr>\n",
              "        <tr>\n",
              "            <td>13376051</td>\n",
              "            <td>JH159964</td>\n",
              "            <td>2024-02-20T15:52:00.000</td>\n",
              "            <td>008XX W Roscoe St</td>\n",
              "            <td>0820</td>\n",
              "            <td>THEFT</td>\n",
              "            <td>$500 AND UNDER</td>\n",
              "            <td>RESIDENCE - PORCH / HALLWAY</td>\n",
              "            <td>0</td>\n",
              "            <td>0</td>\n",
              "            <td>1924</td>\n",
              "            <td>19</td>\n",
              "            <td>44</td>\n",
              "            <td>6</td>\n",
              "            <td>06</td>\n",
              "            <td>1169921.0</td>\n",
              "            <td>1922776.0</td>\n",
              "            <td>2024</td>\n",
              "            <td>2024-02-28T15:41:06.000</td>\n",
              "            <td>41.943597681</td>\n",
              "            <td>-87.650853204</td>\n",
              "            <td><br>,  <br>(41.943597681, -87.650853204)</td>\n",
              "        </tr>\n",
              "        <tr>\n",
              "            <td>13375424</td>\n",
              "            <td>JH160191</td>\n",
              "            <td>2024-02-20T15:01:00.000</td>\n",
              "            <td>023XX N CLYBOURN AVE</td>\n",
              "            <td>0820</td>\n",
              "            <td>THEFT</td>\n",
              "            <td>$500 AND UNDER</td>\n",
              "            <td>RESIDENCE - PORCH / HALLWAY</td>\n",
              "            <td>0</td>\n",
              "            <td>0</td>\n",
              "            <td>1811</td>\n",
              "            <td>18</td>\n",
              "            <td>2</td>\n",
              "            <td>7</td>\n",
              "            <td>06</td>\n",
              "            <td>1165441.0</td>\n",
              "            <td>1915547.0</td>\n",
              "            <td>2024</td>\n",
              "            <td>2024-02-28T15:41:06.000</td>\n",
              "            <td>41.923857611</td>\n",
              "            <td>-87.667525821</td>\n",
              "            <td><br>,  <br>(41.923857611, -87.667525821)</td>\n",
              "        </tr>\n",
              "        <tr>\n",
              "            <td>13374761</td>\n",
              "            <td>JH159582</td>\n",
              "            <td>2024-02-20T15:00:00.000</td>\n",
              "            <td>043XX W 77TH PL</td>\n",
              "            <td>0810</td>\n",
              "            <td>THEFT</td>\n",
              "            <td>OVER $500</td>\n",
              "            <td>RESIDENCE - PORCH / HALLWAY</td>\n",
              "            <td>0</td>\n",
              "            <td>0</td>\n",
              "            <td>834</td>\n",
              "            <td>8</td>\n",
              "            <td>18</td>\n",
              "            <td>70</td>\n",
              "            <td>06</td>\n",
              "            <td>1148752.0</td>\n",
              "            <td>1852996.0</td>\n",
              "            <td>2024</td>\n",
              "            <td>2024-02-28T15:41:06.000</td>\n",
              "            <td>41.752548543</td>\n",
              "            <td>-87.730461248</td>\n",
              "            <td><br>,  <br>(41.752548543, -87.730461248)</td>\n",
              "        </tr>\n",
              "        <tr>\n",
              "            <td>13374416</td>\n",
              "            <td>JH159093</td>\n",
              "            <td>2024-02-20T12:15:00.000</td>\n",
              "            <td>015XX S HAMLIN AVE</td>\n",
              "            <td>0820</td>\n",
              "            <td>THEFT</td>\n",
              "            <td>$500 AND UNDER</td>\n",
              "            <td>RESIDENCE - PORCH / HALLWAY</td>\n",
              "            <td>0</td>\n",
              "            <td>0</td>\n",
              "            <td>1014</td>\n",
              "            <td>10</td>\n",
              "            <td>24</td>\n",
              "            <td>29</td>\n",
              "            <td>06</td>\n",
              "            <td>1151296.0</td>\n",
              "            <td>1892168.0</td>\n",
              "            <td>2024</td>\n",
              "            <td>2024-02-28T15:41:06.000</td>\n",
              "            <td>41.859992856</td>\n",
              "            <td>-87.720114215</td>\n",
              "            <td><br>,  <br>(41.859992856, -87.720114215)</td>\n",
              "        </tr>\n",
              "        <tr>\n",
              "            <td>13380517</td>\n",
              "            <td>JH166296</td>\n",
              "            <td>2024-02-20T12:00:00.000</td>\n",
              "            <td>066XX S ST LAWRENCE AVE</td>\n",
              "            <td>0820</td>\n",
              "            <td>THEFT</td>\n",
              "            <td>$500 AND UNDER</td>\n",
              "            <td>RESIDENCE - YARD (FRONT / BACK)</td>\n",
              "            <td>0</td>\n",
              "            <td>0</td>\n",
              "            <td>321</td>\n",
              "            <td>3</td>\n",
              "            <td>20</td>\n",
              "            <td>42</td>\n",
              "            <td>06</td>\n",
              "            <td>1181374.0</td>\n",
              "            <td>1861177.0</td>\n",
              "            <td>2024</td>\n",
              "            <td>2024-02-28T15:41:06.000</td>\n",
              "            <td>41.774308589</td>\n",
              "            <td>-87.610663654</td>\n",
              "            <td><br>,  <br>(41.774308589, -87.610663654)</td>\n",
              "        </tr>\n",
              "        <tr>\n",
              "            <td>13377854</td>\n",
              "            <td>JH163155</td>\n",
              "            <td>2024-02-20T11:30:00.000</td>\n",
              "            <td>053XX S SPAULDING AVE</td>\n",
              "            <td>0810</td>\n",
              "            <td>THEFT</td>\n",
              "            <td>OVER $500</td>\n",
              "            <td>RESIDENCE</td>\n",
              "            <td>0</td>\n",
              "            <td>0</td>\n",
              "            <td>822</td>\n",
              "            <td>8</td>\n",
              "            <td>14</td>\n",
              "            <td>63</td>\n",
              "            <td>06</td>\n",
              "            <td>1155289.0</td>\n",
              "            <td>1868960.0</td>\n",
              "            <td>2024</td>\n",
              "            <td>2024-02-28T15:41:06.000</td>\n",
              "            <td>41.796227989</td>\n",
              "            <td>-87.706078911</td>\n",
              "            <td><br>,  <br>(41.796227989, -87.706078911)</td>\n",
              "        </tr>\n",
              "        <tr>\n",
              "            <td>13375275</td>\n",
              "            <td>JH159057</td>\n",
              "            <td>2024-02-20T11:15:00.000</td>\n",
              "            <td>006XX S LOOMIS ST</td>\n",
              "            <td>0820</td>\n",
              "            <td>THEFT</td>\n",
              "            <td>$500 AND UNDER</td>\n",
              "            <td>RESIDENCE</td>\n",
              "            <td>0</td>\n",
              "            <td>0</td>\n",
              "            <td>1231</td>\n",
              "            <td>12</td>\n",
              "            <td>28</td>\n",
              "            <td>28</td>\n",
              "            <td>06</td>\n",
              "            <td>1167146.0</td>\n",
              "            <td>1897410.0</td>\n",
              "            <td>2024</td>\n",
              "            <td>2024-02-28T15:41:06.000</td>\n",
              "            <td>41.874051956</td>\n",
              "            <td>-87.661782668</td>\n",
              "            <td><br>,  <br>(41.874051956, -87.661782668)</td>\n",
              "        </tr>\n",
              "        <tr>\n",
              "            <td>13374582</td>\n",
              "            <td>JH158694</td>\n",
              "            <td>2024-02-20T06:50:00.000</td>\n",
              "            <td>009XX W 115TH PL</td>\n",
              "            <td>0820</td>\n",
              "            <td>THEFT</td>\n",
              "            <td>$500 AND UNDER</td>\n",
              "            <td>RESIDENCE</td>\n",
              "            <td>0</td>\n",
              "            <td>1</td>\n",
              "            <td>524</td>\n",
              "            <td>5</td>\n",
              "            <td>21</td>\n",
              "            <td>53</td>\n",
              "            <td>06</td>\n",
              "            <td>1171923.0</td>\n",
              "            <td>1828274.0</td>\n",
              "            <td>2024</td>\n",
              "            <td>2024-02-28T15:41:06.000</td>\n",
              "            <td>41.684230856</td>\n",
              "            <td>-87.64627195</td>\n",
              "            <td><br>,  <br>(41.684230856, -87.64627195)</td>\n",
              "        </tr>\n",
              "        <tr>\n",
              "            <td>13374597</td>\n",
              "            <td>JH159281</td>\n",
              "            <td>2024-02-20T03:50:00.000</td>\n",
              "            <td>016XX W SHERWIN AVE</td>\n",
              "            <td>0810</td>\n",
              "            <td>THEFT</td>\n",
              "            <td>OVER $500</td>\n",
              "            <td>RESIDENCE</td>\n",
              "            <td>0</td>\n",
              "            <td>0</td>\n",
              "            <td>2423</td>\n",
              "            <td>24</td>\n",
              "            <td>49</td>\n",
              "            <td>1</td>\n",
              "            <td>06</td>\n",
              "            <td>1164156.0</td>\n",
              "            <td>1948718.0</td>\n",
              "            <td>2024</td>\n",
              "            <td>2024-02-28T15:41:06.000</td>\n",
              "            <td>42.014907434</td>\n",
              "            <td>-87.671305577</td>\n",
              "            <td><br>,  <br>(42.014907434, -87.671305577)</td>\n",
              "        </tr>\n",
              "        <tr>\n",
              "            <td>13374112</td>\n",
              "            <td>JH158633</td>\n",
              "            <td>2024-02-19T23:00:00.000</td>\n",
              "            <td>023XX W 100TH ST</td>\n",
              "            <td>0910</td>\n",
              "            <td>MOTOR VEHICLE THEFT</td>\n",
              "            <td>AUTOMOBILE</td>\n",
              "            <td>RESIDENCE</td>\n",
              "            <td>0</td>\n",
              "            <td>0</td>\n",
              "            <td>2213</td>\n",
              "            <td>22</td>\n",
              "            <td>19</td>\n",
              "            <td>72</td>\n",
              "            <td>07</td>\n",
              "            <td>1162677.0</td>\n",
              "            <td>1838271.0</td>\n",
              "            <td>2024</td>\n",
              "            <td>2024-02-27T15:41:42.000</td>\n",
              "            <td>41.711861729</td>\n",
              "            <td>-87.679841245</td>\n",
              "            <td><br>,  <br>(41.711861729, -87.679841245)</td>\n",
              "        </tr>\n",
              "        <tr>\n",
              "            <td>13374953</td>\n",
              "            <td>JH159004</td>\n",
              "            <td>2024-02-19T19:35:00.000</td>\n",
              "            <td>073XX S CRANDON AVE</td>\n",
              "            <td>0890</td>\n",
              "            <td>THEFT</td>\n",
              "            <td>FROM BUILDING</td>\n",
              "            <td>RESIDENCE - PORCH / HALLWAY</td>\n",
              "            <td>0</td>\n",
              "            <td>0</td>\n",
              "            <td>334</td>\n",
              "            <td>3</td>\n",
              "            <td>7</td>\n",
              "            <td>43</td>\n",
              "            <td>06</td>\n",
              "            <td>1192819.0</td>\n",
              "            <td>1856659.0</td>\n",
              "            <td>2024</td>\n",
              "            <td>2024-02-27T15:41:42.000</td>\n",
              "            <td>41.761639287</td>\n",
              "            <td>-87.568856231</td>\n",
              "            <td><br>,  <br>(41.761639287, -87.568856231)</td>\n",
              "        </tr>\n",
              "        <tr>\n",
              "            <td>13373789</td>\n",
              "            <td>JH158275</td>\n",
              "            <td>2024-02-19T17:00:00.000</td>\n",
              "            <td>132XX S EBERHART AVE</td>\n",
              "            <td>0810</td>\n",
              "            <td>THEFT</td>\n",
              "            <td>OVER $500</td>\n",
              "            <td>RESIDENCE</td>\n",
              "            <td>0</td>\n",
              "            <td>0</td>\n",
              "            <td>533</td>\n",
              "            <td>5</td>\n",
              "            <td>10</td>\n",
              "            <td>54</td>\n",
              "            <td>06</td>\n",
              "            <td>1181661.0</td>\n",
              "            <td>1817068.0</td>\n",
              "            <td>2024</td>\n",
              "            <td>2024-02-27T15:41:42.000</td>\n",
              "            <td>41.653261286</td>\n",
              "            <td>-87.610968139</td>\n",
              "            <td><br>,  <br>(41.653261286, -87.610968139)</td>\n",
              "        </tr>\n",
              "        <tr>\n",
              "            <td>13373720</td>\n",
              "            <td>JH158303</td>\n",
              "            <td>2024-02-19T14:50:00.000</td>\n",
              "            <td>026XX W 35TH PL</td>\n",
              "            <td>0820</td>\n",
              "            <td>THEFT</td>\n",
              "            <td>$500 AND UNDER</td>\n",
              "            <td>RESIDENCE - PORCH / HALLWAY</td>\n",
              "            <td>0</td>\n",
              "            <td>0</td>\n",
              "            <td>911</td>\n",
              "            <td>9</td>\n",
              "            <td>12</td>\n",
              "            <td>58</td>\n",
              "            <td>06</td>\n",
              "            <td>1159375.0</td>\n",
              "            <td>1881027.0</td>\n",
              "            <td>2024</td>\n",
              "            <td>2024-02-27T15:41:42.000</td>\n",
              "            <td>41.829258557</td>\n",
              "            <td>-87.69076427</td>\n",
              "            <td><br>,  <br>(41.829258557, -87.69076427)</td>\n",
              "        </tr>\n",
              "        <tr>\n",
              "            <td>13375489</td>\n",
              "            <td>JH160291</td>\n",
              "            <td>2024-02-19T13:02:00.000</td>\n",
              "            <td>073XX S SOUTH SHORE DR</td>\n",
              "            <td>0890</td>\n",
              "            <td>THEFT</td>\n",
              "            <td>FROM BUILDING</td>\n",
              "            <td>RESIDENCE - PORCH / HALLWAY</td>\n",
              "            <td>0</td>\n",
              "            <td>0</td>\n",
              "            <td>334</td>\n",
              "            <td>3</td>\n",
              "            <td>7</td>\n",
              "            <td>43</td>\n",
              "            <td>06</td>\n",
              "            <td>1195179.0</td>\n",
              "            <td>1857404.0</td>\n",
              "            <td>2024</td>\n",
              "            <td>2024-02-27T15:41:42.000</td>\n",
              "            <td>41.763625742</td>\n",
              "            <td>-87.560182233</td>\n",
              "            <td><br>,  <br>(41.763625742, -87.560182233)</td>\n",
              "        </tr>\n",
              "    </tbody>\n",
              "</table>"
            ]
          },
          "metadata": {},
          "execution_count": 8
        }
      ]
    },
    {
      "cell_type": "code",
      "source": [
        "# Types of offenses recorded at schools noted"
      ],
      "metadata": {
        "id": "oLFzgidfqw33"
      },
      "execution_count": null,
      "outputs": []
    },
    {
      "cell_type": "code",
      "source": [
        "%sql select distinct(primary_type) from CHICAGO_CRIME_DATA where location_description like '%school%'"
      ],
      "metadata": {
        "colab": {
          "base_uri": "https://localhost:8080/",
          "height": 158
        },
        "id": "Sx-tN1S5Dfpr",
        "outputId": "bf25a781-babb-4847-9950-3c10008bcb17"
      },
      "execution_count": null,
      "outputs": [
        {
          "output_type": "stream",
          "name": "stdout",
          "text": [
            " * sqlite:///FinalDB.db\n",
            "Done.\n"
          ]
        },
        {
          "output_type": "execute_result",
          "data": {
            "text/plain": [
              "[('BATTERY',), ('OFFENSE INVOLVING CHILDREN',), ('ASSAULT',), ('THEFT',)]"
            ],
            "text/html": [
              "<table>\n",
              "    <thead>\n",
              "        <tr>\n",
              "            <th>primary_type</th>\n",
              "        </tr>\n",
              "    </thead>\n",
              "    <tbody>\n",
              "        <tr>\n",
              "            <td>BATTERY</td>\n",
              "        </tr>\n",
              "        <tr>\n",
              "            <td>OFFENSE INVOLVING CHILDREN</td>\n",
              "        </tr>\n",
              "        <tr>\n",
              "            <td>ASSAULT</td>\n",
              "        </tr>\n",
              "        <tr>\n",
              "            <td>THEFT</td>\n",
              "        </tr>\n",
              "    </tbody>\n",
              "</table>"
            ]
          },
          "metadata": {},
          "execution_count": 9
        }
      ]
    },
    {
      "cell_type": "code",
      "source": [
        "# Average safety score per school recorded"
      ],
      "metadata": {
        "id": "IoLhbp6NrF9L"
      },
      "execution_count": null,
      "outputs": []
    },
    {
      "cell_type": "code",
      "source": [
        "%%sql\n",
        "SELECT DISTINCT \"NAME_OF_SCHOOL\", AVG(safety_score) AS avg_safety_score\n",
        "FROM CHICAGO_PUBLIC_SCHOOLS\n",
        "GROUP BY \"NAME_OF_SCHOOL\" LIMIT 20;"
      ],
      "metadata": {
        "colab": {
          "base_uri": "https://localhost:8080/",
          "height": 493
        },
        "id": "js8CzqYzDsup",
        "outputId": "fc3c182f-4f23-4dad-af56-541ceb63bf06"
      },
      "execution_count": null,
      "outputs": [
        {
          "output_type": "stream",
          "name": "stdout",
          "text": [
            " * sqlite:///FinalDB.db\n",
            "Done.\n"
          ]
        },
        {
          "output_type": "execute_result",
          "data": {
            "text/plain": [
              "[('A.N. Pritzker School', 59.0),\n",
              " ('Abraham Lincoln Elementary School', 99.0),\n",
              " ('Adam Clayton Powell Paideia Community Academy Elementary School', 54.0),\n",
              " ('Adlai E Stevenson Elementary School', 61.0),\n",
              " ('Agustin Lara Elementary Academy', 56.0),\n",
              " ('Air Force Academy High School', 49.0),\n",
              " ('Al Raby High School', 52.0),\n",
              " ('Albany Park Multicultural Academy', 66.0),\n",
              " ('Albert G Lane Technical High School', 88.0),\n",
              " ('Albert R Sabin Elementary Magnet School', 67.0),\n",
              " ('Alcott High School for the Humanities', 70.0),\n",
              " ('Alessandro Volta Elementary School', 43.0),\n",
              " ('Alex Haley Elementary Academy', 28.0),\n",
              " ('Alexander Graham Bell Elementary School', 99.0),\n",
              " ('Alexander Graham Elementary School', 49.0),\n",
              " ('Alexander Hamilton Elementary School', 73.0),\n",
              " ('Alexander von Humboldt Elementary School', 31.0),\n",
              " ('Alfred David Kohn Elementary School', 19.0),\n",
              " ('Alfred Nobel Elementary School', 37.0),\n",
              " ('Alice L Barnard Computer Math & Science Center Elementary School', 46.0)]"
            ],
            "text/html": [
              "<table>\n",
              "    <thead>\n",
              "        <tr>\n",
              "            <th>name_of_school</th>\n",
              "            <th>avg_safety_score</th>\n",
              "        </tr>\n",
              "    </thead>\n",
              "    <tbody>\n",
              "        <tr>\n",
              "            <td>A.N. Pritzker School</td>\n",
              "            <td>59.0</td>\n",
              "        </tr>\n",
              "        <tr>\n",
              "            <td>Abraham Lincoln Elementary School</td>\n",
              "            <td>99.0</td>\n",
              "        </tr>\n",
              "        <tr>\n",
              "            <td>Adam Clayton Powell Paideia Community Academy Elementary School</td>\n",
              "            <td>54.0</td>\n",
              "        </tr>\n",
              "        <tr>\n",
              "            <td>Adlai E Stevenson Elementary School</td>\n",
              "            <td>61.0</td>\n",
              "        </tr>\n",
              "        <tr>\n",
              "            <td>Agustin Lara Elementary Academy</td>\n",
              "            <td>56.0</td>\n",
              "        </tr>\n",
              "        <tr>\n",
              "            <td>Air Force Academy High School</td>\n",
              "            <td>49.0</td>\n",
              "        </tr>\n",
              "        <tr>\n",
              "            <td>Al Raby High School</td>\n",
              "            <td>52.0</td>\n",
              "        </tr>\n",
              "        <tr>\n",
              "            <td>Albany Park Multicultural Academy</td>\n",
              "            <td>66.0</td>\n",
              "        </tr>\n",
              "        <tr>\n",
              "            <td>Albert G Lane Technical High School</td>\n",
              "            <td>88.0</td>\n",
              "        </tr>\n",
              "        <tr>\n",
              "            <td>Albert R Sabin Elementary Magnet School</td>\n",
              "            <td>67.0</td>\n",
              "        </tr>\n",
              "        <tr>\n",
              "            <td>Alcott High School for the Humanities</td>\n",
              "            <td>70.0</td>\n",
              "        </tr>\n",
              "        <tr>\n",
              "            <td>Alessandro Volta Elementary School</td>\n",
              "            <td>43.0</td>\n",
              "        </tr>\n",
              "        <tr>\n",
              "            <td>Alex Haley Elementary Academy</td>\n",
              "            <td>28.0</td>\n",
              "        </tr>\n",
              "        <tr>\n",
              "            <td>Alexander Graham Bell Elementary School</td>\n",
              "            <td>99.0</td>\n",
              "        </tr>\n",
              "        <tr>\n",
              "            <td>Alexander Graham Elementary School</td>\n",
              "            <td>49.0</td>\n",
              "        </tr>\n",
              "        <tr>\n",
              "            <td>Alexander Hamilton Elementary School</td>\n",
              "            <td>73.0</td>\n",
              "        </tr>\n",
              "        <tr>\n",
              "            <td>Alexander von Humboldt Elementary School</td>\n",
              "            <td>31.0</td>\n",
              "        </tr>\n",
              "        <tr>\n",
              "            <td>Alfred David Kohn Elementary School</td>\n",
              "            <td>19.0</td>\n",
              "        </tr>\n",
              "        <tr>\n",
              "            <td>Alfred Nobel Elementary School</td>\n",
              "            <td>37.0</td>\n",
              "        </tr>\n",
              "        <tr>\n",
              "            <td>Alice L Barnard Computer Math &amp; Science Center Elementary School</td>\n",
              "            <td>46.0</td>\n",
              "        </tr>\n",
              "    </tbody>\n",
              "</table>"
            ]
          },
          "metadata": {},
          "execution_count": 10
        }
      ]
    },
    {
      "cell_type": "code",
      "source": [
        "# Percentage of community areas living under poverty"
      ],
      "metadata": {
        "id": "JM6xzuD3rLxf"
      },
      "execution_count": null,
      "outputs": []
    },
    {
      "cell_type": "code",
      "source": [
        "%%sql\n",
        "select community_area_name, percent_households_below_poverty from CENSUS_DATA\n",
        "order by percent_households_below_poverty DESC limit 5"
      ],
      "metadata": {
        "colab": {
          "base_uri": "https://localhost:8080/",
          "height": 179
        },
        "id": "0b5CasOfEcqr",
        "outputId": "c21ac784-1cd6-45ec-f46c-fd564aaecddc"
      },
      "execution_count": null,
      "outputs": [
        {
          "output_type": "stream",
          "name": "stdout",
          "text": [
            " * sqlite:///FinalDB.db\n",
            "Done.\n"
          ]
        },
        {
          "output_type": "execute_result",
          "data": {
            "text/plain": [
              "[('Riverdale', 56.5),\n",
              " ('Fuller Park', 51.2),\n",
              " ('Englewood', 46.6),\n",
              " ('North Lawndale', 43.1),\n",
              " ('East Garfield Park', 42.4)]"
            ],
            "text/html": [
              "<table>\n",
              "    <thead>\n",
              "        <tr>\n",
              "            <th>community_area_name</th>\n",
              "            <th>percent_households_below_poverty</th>\n",
              "        </tr>\n",
              "    </thead>\n",
              "    <tbody>\n",
              "        <tr>\n",
              "            <td>Riverdale</td>\n",
              "            <td>56.5</td>\n",
              "        </tr>\n",
              "        <tr>\n",
              "            <td>Fuller Park</td>\n",
              "            <td>51.2</td>\n",
              "        </tr>\n",
              "        <tr>\n",
              "            <td>Englewood</td>\n",
              "            <td>46.6</td>\n",
              "        </tr>\n",
              "        <tr>\n",
              "            <td>North Lawndale</td>\n",
              "            <td>43.1</td>\n",
              "        </tr>\n",
              "        <tr>\n",
              "            <td>East Garfield Park</td>\n",
              "            <td>42.4</td>\n",
              "        </tr>\n",
              "    </tbody>\n",
              "</table>"
            ]
          },
          "metadata": {},
          "execution_count": 49
        }
      ]
    },
    {
      "cell_type": "code",
      "source": [
        "# Street block with highest amount of crime"
      ],
      "metadata": {
        "id": "GChb6EW4rXdu"
      },
      "execution_count": null,
      "outputs": []
    },
    {
      "cell_type": "code",
      "source": [
        "%%sql\n",
        "select BLOCK, count(*) as frequency from CHICAGO_CRIME_DATA\n",
        "group by BLOCK order by frequency DESC limit 1"
      ],
      "metadata": {
        "colab": {
          "base_uri": "https://localhost:8080/",
          "height": 95
        },
        "id": "AR0kHJ6bEiFs",
        "outputId": "0ba4b334-6ee0-40ba-efea-1f92f4d36902"
      },
      "execution_count": null,
      "outputs": [
        {
          "output_type": "stream",
          "name": "stdout",
          "text": [
            " * sqlite:///FinalDB.db\n",
            "Done.\n"
          ]
        },
        {
          "output_type": "execute_result",
          "data": {
            "text/plain": [
              "[('020XX N MILWAUKEE AVE', 4)]"
            ],
            "text/html": [
              "<table>\n",
              "    <thead>\n",
              "        <tr>\n",
              "            <th>block</th>\n",
              "            <th>frequency</th>\n",
              "        </tr>\n",
              "    </thead>\n",
              "    <tbody>\n",
              "        <tr>\n",
              "            <td>020XX N MILWAUKEE AVE</td>\n",
              "            <td>4</td>\n",
              "        </tr>\n",
              "    </tbody>\n",
              "</table>"
            ]
          },
          "metadata": {},
          "execution_count": 12
        }
      ]
    },
    {
      "cell_type": "code",
      "source": [
        "# Community area with highest hardship index"
      ],
      "metadata": {
        "id": "HT74K9M1rd1N"
      },
      "execution_count": null,
      "outputs": []
    },
    {
      "cell_type": "code",
      "source": [
        "%%sql\n",
        "select community_area_name from CENSUS_DATA where hardship_index = (select max(hardship_index)from CENSUS_DATA)"
      ],
      "metadata": {
        "colab": {
          "base_uri": "https://localhost:8080/",
          "height": 95
        },
        "id": "5axkWhsBEkzA",
        "outputId": "4d7ceeb5-c3d0-4ca9-fed9-083bf8db2dbe"
      },
      "execution_count": null,
      "outputs": [
        {
          "output_type": "stream",
          "name": "stdout",
          "text": [
            " * sqlite:///FinalDB.db\n",
            "Done.\n"
          ]
        },
        {
          "output_type": "execute_result",
          "data": {
            "text/plain": [
              "[('Riverdale',)]"
            ],
            "text/html": [
              "<table>\n",
              "    <thead>\n",
              "        <tr>\n",
              "            <th>community_area_name</th>\n",
              "        </tr>\n",
              "    </thead>\n",
              "    <tbody>\n",
              "        <tr>\n",
              "            <td>Riverdale</td>\n",
              "        </tr>\n",
              "    </tbody>\n",
              "</table>"
            ]
          },
          "metadata": {},
          "execution_count": 13
        }
      ]
    },
    {
      "cell_type": "code",
      "source": [
        "# Derived table created with name of school and instruction score"
      ],
      "metadata": {
        "id": "eLNIEQ5Kc9T2"
      },
      "execution_count": null,
      "outputs": []
    },
    {
      "cell_type": "code",
      "source": [
        "%%sql\n",
        "SELECT CPS.name_of_school, IST.Instruction_Score\n",
        "FROM (\n",
        "    SELECT name_of_school, Instruction_Score\n",
        "    FROM CHICAGO_PUBLIC_SCHOOLS\n",
        "    ORDER BY Instruction_Score DESC\n",
        "    LIMIT 10\n",
        ") AS IST\n",
        "JOIN CHICAGO_PUBLIC_SCHOOLS AS CPS ON CPS.name_of_school = IST.name_of_school;\n"
      ],
      "metadata": {
        "colab": {
          "base_uri": "https://localhost:8080/",
          "height": 284
        },
        "id": "aUlOhrZbliAk",
        "outputId": "8f8bdf40-7b9f-4cc8-9ee6-23e7489430eb"
      },
      "execution_count": null,
      "outputs": [
        {
          "output_type": "stream",
          "name": "stdout",
          "text": [
            " * sqlite:///FinalDB.db\n",
            "Done.\n"
          ]
        },
        {
          "output_type": "execute_result",
          "data": {
            "text/plain": [
              "[('Burnham Elementary Inclusive Academy', 99.0),\n",
              " ('Ellen Mitchell Elementary School', 95.0),\n",
              " ('Frederic Chopin Elementary School', 99.0),\n",
              " ('Ida B Wells Preparatory Elementary Academy', 93.0),\n",
              " ('Ignance Paderewski Elementary Learning Academy', 98.0),\n",
              " ('John A Walsh Elementary School', 91.0),\n",
              " ('Nathan R Goldblatt Elementary School', 99.0),\n",
              " ('Stephen Decatur Classical Elementary School', 99.0),\n",
              " ('Talman Elementary School', 99.0),\n",
              " ('William Penn Elementary School', 99.0)]"
            ],
            "text/html": [
              "<table>\n",
              "    <thead>\n",
              "        <tr>\n",
              "            <th>name_of_school</th>\n",
              "            <th>Instruction_Score</th>\n",
              "        </tr>\n",
              "    </thead>\n",
              "    <tbody>\n",
              "        <tr>\n",
              "            <td>Burnham Elementary Inclusive Academy</td>\n",
              "            <td>99.0</td>\n",
              "        </tr>\n",
              "        <tr>\n",
              "            <td>Ellen Mitchell Elementary School</td>\n",
              "            <td>95.0</td>\n",
              "        </tr>\n",
              "        <tr>\n",
              "            <td>Frederic Chopin Elementary School</td>\n",
              "            <td>99.0</td>\n",
              "        </tr>\n",
              "        <tr>\n",
              "            <td>Ida B Wells Preparatory Elementary Academy</td>\n",
              "            <td>93.0</td>\n",
              "        </tr>\n",
              "        <tr>\n",
              "            <td>Ignance Paderewski Elementary Learning Academy</td>\n",
              "            <td>98.0</td>\n",
              "        </tr>\n",
              "        <tr>\n",
              "            <td>John A Walsh Elementary School</td>\n",
              "            <td>91.0</td>\n",
              "        </tr>\n",
              "        <tr>\n",
              "            <td>Nathan R Goldblatt Elementary School</td>\n",
              "            <td>99.0</td>\n",
              "        </tr>\n",
              "        <tr>\n",
              "            <td>Stephen Decatur Classical Elementary School</td>\n",
              "            <td>99.0</td>\n",
              "        </tr>\n",
              "        <tr>\n",
              "            <td>Talman Elementary School</td>\n",
              "            <td>99.0</td>\n",
              "        </tr>\n",
              "        <tr>\n",
              "            <td>William Penn Elementary School</td>\n",
              "            <td>99.0</td>\n",
              "        </tr>\n",
              "    </tbody>\n",
              "</table>"
            ]
          },
          "metadata": {},
          "execution_count": 48
        }
      ]
    }
  ]
}